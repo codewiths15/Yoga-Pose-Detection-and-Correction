{
  "nbformat": 4,
  "nbformat_minor": 0,
  "metadata": {
    "colab": {
      "provenance": []
    },
    "kernelspec": {
      "name": "python3",
      "display_name": "Python 3"
    },
    "language_info": {
      "name": "python"
    }
  },
  "cells": [
    {
      "cell_type": "code",
      "execution_count": 1,
      "metadata": {
        "colab": {
          "base_uri": "https://localhost:8080/"
        },
        "id": "IJ9vLzn6zivI",
        "outputId": "7dccd988-090c-41db-baf3-3649c2cb7151"
      },
      "outputs": [
        {
          "output_type": "stream",
          "name": "stdout",
          "text": [
            "Mounted at /content/drive\n"
          ]
        }
      ],
      "source": [
        "from google.colab import drive\n",
        "drive.mount('/content/drive')\n"
      ]
    },
    {
      "cell_type": "code",
      "source": [
        "import os\n",
        "images_dir = \"/content/drive/My Drive/Yoga_Images/images\"  # Adjust if needed\n",
        "\n"
      ],
      "metadata": {
        "id": "YzL4lAjl2eBC"
      },
      "execution_count": 2,
      "outputs": []
    },
    {
      "cell_type": "code",
      "source": [
        "import csv"
      ],
      "metadata": {
        "id": "DoXOBOoa3XFi"
      },
      "execution_count": 3,
      "outputs": []
    },
    {
      "cell_type": "markdown",
      "source": [
        "**Creating a csv file which has the path of images and its name**"
      ],
      "metadata": {
        "id": "UJxk8Fe43254"
      }
    },
    {
      "cell_type": "code",
      "source": [
        "output_csv = \"yoga_dataset.csv\"  # Output CSV file name\n",
        "\n",
        "# Function to generate the CSV file\n",
        "def create_yoga_csv(images_dir, output_csv):\n",
        "    yoga_id = 1  # Start Yoga IDs from 1\n",
        "    with open(output_csv, mode='w', newline='') as file:\n",
        "        writer = csv.writer(file)\n",
        "        # Write the CSV header\n",
        "        writer.writerow(['Yoga ID', 'Yoga Name', 'Image Path'])\n",
        "\n",
        "        # Loop through each yoga pose folder\n",
        "        for folder_name in os.listdir(images_dir):\n",
        "            folder_path = os.path.join(images_dir, folder_name)\n",
        "            if os.path.isdir(folder_path):  # Ensure it's a directory\n",
        "                # Loop through each image in the folder\n",
        "                for image_name in os.listdir(folder_path):\n",
        "                    image_path = os.path.join(folder_path, image_name)\n",
        "                    if os.path.isfile(image_path):  # Ensure it's a file\n",
        "                        # Write Yoga ID, Yoga Name (folder name), and Image Path\n",
        "                        writer.writerow([yoga_id, folder_name, image_path])\n",
        "                yoga_id += 1\n",
        "\n",
        "# Call the function\n",
        "create_yoga_csv(images_dir, output_csv)\n",
        "\n",
        "print(f\"CSV file '{output_csv}' has been created successfully.\")\n"
      ],
      "metadata": {
        "colab": {
          "base_uri": "https://localhost:8080/"
        },
        "id": "g5obO3TA3ZV7",
        "outputId": "40b6f97e-f385-4651-d412-5e45731c77d2"
      },
      "execution_count": 4,
      "outputs": [
        {
          "output_type": "stream",
          "name": "stdout",
          "text": [
            "CSV file 'yoga_dataset.csv' has been created successfully.\n"
          ]
        }
      ]
    },
    {
      "cell_type": "code",
      "source": [
        "!pip install tensorflow tensorflow-hub opencv-python numpy\n"
      ],
      "metadata": {
        "colab": {
          "base_uri": "https://localhost:8080/"
        },
        "id": "i-tde-hM3gN1",
        "outputId": "623399e4-3e81-44a7-ce7b-2eb97057479f"
      },
      "execution_count": 5,
      "outputs": [
        {
          "output_type": "stream",
          "name": "stdout",
          "text": [
            "Requirement already satisfied: tensorflow in /usr/local/lib/python3.11/dist-packages (2.18.0)\n",
            "Requirement already satisfied: tensorflow-hub in /usr/local/lib/python3.11/dist-packages (0.16.1)\n",
            "Requirement already satisfied: opencv-python in /usr/local/lib/python3.11/dist-packages (4.11.0.86)\n",
            "Requirement already satisfied: numpy in /usr/local/lib/python3.11/dist-packages (1.26.4)\n",
            "Requirement already satisfied: absl-py>=1.0.0 in /usr/local/lib/python3.11/dist-packages (from tensorflow) (1.4.0)\n",
            "Requirement already satisfied: astunparse>=1.6.0 in /usr/local/lib/python3.11/dist-packages (from tensorflow) (1.6.3)\n",
            "Requirement already satisfied: flatbuffers>=24.3.25 in /usr/local/lib/python3.11/dist-packages (from tensorflow) (25.2.10)\n",
            "Requirement already satisfied: gast!=0.5.0,!=0.5.1,!=0.5.2,>=0.2.1 in /usr/local/lib/python3.11/dist-packages (from tensorflow) (0.6.0)\n",
            "Requirement already satisfied: google-pasta>=0.1.1 in /usr/local/lib/python3.11/dist-packages (from tensorflow) (0.2.0)\n",
            "Requirement already satisfied: libclang>=13.0.0 in /usr/local/lib/python3.11/dist-packages (from tensorflow) (18.1.1)\n",
            "Requirement already satisfied: opt-einsum>=2.3.2 in /usr/local/lib/python3.11/dist-packages (from tensorflow) (3.4.0)\n",
            "Requirement already satisfied: packaging in /usr/local/lib/python3.11/dist-packages (from tensorflow) (24.2)\n",
            "Requirement already satisfied: protobuf!=4.21.0,!=4.21.1,!=4.21.2,!=4.21.3,!=4.21.4,!=4.21.5,<6.0.0dev,>=3.20.3 in /usr/local/lib/python3.11/dist-packages (from tensorflow) (4.25.6)\n",
            "Requirement already satisfied: requests<3,>=2.21.0 in /usr/local/lib/python3.11/dist-packages (from tensorflow) (2.32.3)\n",
            "Requirement already satisfied: setuptools in /usr/local/lib/python3.11/dist-packages (from tensorflow) (75.1.0)\n",
            "Requirement already satisfied: six>=1.12.0 in /usr/local/lib/python3.11/dist-packages (from tensorflow) (1.17.0)\n",
            "Requirement already satisfied: termcolor>=1.1.0 in /usr/local/lib/python3.11/dist-packages (from tensorflow) (2.5.0)\n",
            "Requirement already satisfied: typing-extensions>=3.6.6 in /usr/local/lib/python3.11/dist-packages (from tensorflow) (4.12.2)\n",
            "Requirement already satisfied: wrapt>=1.11.0 in /usr/local/lib/python3.11/dist-packages (from tensorflow) (1.17.2)\n",
            "Requirement already satisfied: grpcio<2.0,>=1.24.3 in /usr/local/lib/python3.11/dist-packages (from tensorflow) (1.70.0)\n",
            "Requirement already satisfied: tensorboard<2.19,>=2.18 in /usr/local/lib/python3.11/dist-packages (from tensorflow) (2.18.0)\n",
            "Requirement already satisfied: keras>=3.5.0 in /usr/local/lib/python3.11/dist-packages (from tensorflow) (3.8.0)\n",
            "Requirement already satisfied: h5py>=3.11.0 in /usr/local/lib/python3.11/dist-packages (from tensorflow) (3.12.1)\n",
            "Requirement already satisfied: ml-dtypes<0.5.0,>=0.4.0 in /usr/local/lib/python3.11/dist-packages (from tensorflow) (0.4.1)\n",
            "Requirement already satisfied: tensorflow-io-gcs-filesystem>=0.23.1 in /usr/local/lib/python3.11/dist-packages (from tensorflow) (0.37.1)\n",
            "Requirement already satisfied: tf-keras>=2.14.1 in /usr/local/lib/python3.11/dist-packages (from tensorflow-hub) (2.18.0)\n",
            "Requirement already satisfied: wheel<1.0,>=0.23.0 in /usr/local/lib/python3.11/dist-packages (from astunparse>=1.6.0->tensorflow) (0.45.1)\n",
            "Requirement already satisfied: rich in /usr/local/lib/python3.11/dist-packages (from keras>=3.5.0->tensorflow) (13.9.4)\n",
            "Requirement already satisfied: namex in /usr/local/lib/python3.11/dist-packages (from keras>=3.5.0->tensorflow) (0.0.8)\n",
            "Requirement already satisfied: optree in /usr/local/lib/python3.11/dist-packages (from keras>=3.5.0->tensorflow) (0.14.0)\n",
            "Requirement already satisfied: charset-normalizer<4,>=2 in /usr/local/lib/python3.11/dist-packages (from requests<3,>=2.21.0->tensorflow) (3.4.1)\n",
            "Requirement already satisfied: idna<4,>=2.5 in /usr/local/lib/python3.11/dist-packages (from requests<3,>=2.21.0->tensorflow) (3.10)\n",
            "Requirement already satisfied: urllib3<3,>=1.21.1 in /usr/local/lib/python3.11/dist-packages (from requests<3,>=2.21.0->tensorflow) (2.3.0)\n",
            "Requirement already satisfied: certifi>=2017.4.17 in /usr/local/lib/python3.11/dist-packages (from requests<3,>=2.21.0->tensorflow) (2025.1.31)\n",
            "Requirement already satisfied: markdown>=2.6.8 in /usr/local/lib/python3.11/dist-packages (from tensorboard<2.19,>=2.18->tensorflow) (3.7)\n",
            "Requirement already satisfied: tensorboard-data-server<0.8.0,>=0.7.0 in /usr/local/lib/python3.11/dist-packages (from tensorboard<2.19,>=2.18->tensorflow) (0.7.2)\n",
            "Requirement already satisfied: werkzeug>=1.0.1 in /usr/local/lib/python3.11/dist-packages (from tensorboard<2.19,>=2.18->tensorflow) (3.1.3)\n",
            "Requirement already satisfied: MarkupSafe>=2.1.1 in /usr/local/lib/python3.11/dist-packages (from werkzeug>=1.0.1->tensorboard<2.19,>=2.18->tensorflow) (3.0.2)\n",
            "Requirement already satisfied: markdown-it-py>=2.2.0 in /usr/local/lib/python3.11/dist-packages (from rich->keras>=3.5.0->tensorflow) (3.0.0)\n",
            "Requirement already satisfied: pygments<3.0.0,>=2.13.0 in /usr/local/lib/python3.11/dist-packages (from rich->keras>=3.5.0->tensorflow) (2.18.0)\n",
            "Requirement already satisfied: mdurl~=0.1 in /usr/local/lib/python3.11/dist-packages (from markdown-it-py>=2.2.0->rich->keras>=3.5.0->tensorflow) (0.1.2)\n"
          ]
        }
      ]
    },
    {
      "cell_type": "code",
      "source": [
        "import tensorflow as tf\n",
        "import tensorflow_hub as hub\n",
        "import numpy as np\n",
        "import cv2\n",
        "import os\n",
        "import pandas as pd\n",
        "\n",
        "# Load MoveNet Thunder Model\n",
        "model_url = \"https://tfhub.dev/google/movenet/singlepose/thunder/4\"\n",
        "movenet = hub.load(model_url)\n",
        "\n",
        "# Define the function to extract keypoints\n",
        "def extract_keypoints(image_path):\n",
        "    img = cv2.imread(image_path)\n",
        "    img = cv2.resize(img, (256, 256))  # Resize to 256x256 (MoveNet requirement)\n",
        "    img = cv2.cvtColor(img, cv2.COLOR_BGR2RGB)  # Convert BGR to RGB\n",
        "    img = np.expand_dims(img, axis=0).astype(np.int32)  # Ensure dtype is int32\n",
        "\n",
        "    outputs = movenet.signatures[\"serving_default\"](input=img)  # Correct input key\n",
        "    keypoints = outputs['output_0'].numpy().reshape(-1, 3)[:, :2]  # Extract (x, y)\n",
        "\n",
        "    return keypoints.flatten()  # Convert to 1D array\n",
        "\n",
        "\n",
        "# Folder containing the images (assumed structure: images/pose_name/*.jpg)\n",
        "dataset_path = images_dir # Change to your folder path\n",
        "\n",
        "data = []\n",
        "labels = []\n",
        "\n",
        "# Loop through yoga pose folders\n",
        "for pose in os.listdir(dataset_path):\n",
        "    pose_path = os.path.join(dataset_path, pose)\n",
        "    if os.path.isdir(pose_path):\n",
        "        for img_file in os.listdir(pose_path):\n",
        "            img_path = os.path.join(pose_path, img_file)\n",
        "            keypoints = extract_keypoints(img_path)\n",
        "            data.append(keypoints)\n",
        "            labels.append(pose)  # Use folder name as label\n",
        "\n",
        "# Convert to DataFrame & Save as CSV\n",
        "df = pd.DataFrame(data)\n",
        "df[\"label\"] = labels\n",
        "df.to_csv(\"yoga_keypoints.csv\", index=False)\n",
        "\n",
        "print(\"✅ Dataset Created: yoga_keypoints.csv\")\n"
      ],
      "metadata": {
        "colab": {
          "base_uri": "https://localhost:8080/"
        },
        "id": "37bAZ9Qp6UQM",
        "outputId": "a438f5db-01e0-4897-dbb2-85a45be1b637"
      },
      "execution_count": 6,
      "outputs": [
        {
          "output_type": "stream",
          "name": "stdout",
          "text": [
            "✅ Dataset Created: yoga_keypoints.csv\n"
          ]
        }
      ]
    },
    {
      "cell_type": "code",
      "source": [
        "!pip install pandas scikit-learn joblib\n"
      ],
      "metadata": {
        "id": "sf0YBq8-6b_n",
        "colab": {
          "base_uri": "https://localhost:8080/"
        },
        "outputId": "ea08476e-1911-491c-e457-ea79b43c7e9b"
      },
      "execution_count": 11,
      "outputs": [
        {
          "output_type": "stream",
          "name": "stdout",
          "text": [
            "Requirement already satisfied: pandas in /usr/local/lib/python3.11/dist-packages (2.2.2)\n",
            "Requirement already satisfied: scikit-learn in /usr/local/lib/python3.11/dist-packages (1.6.1)\n",
            "Requirement already satisfied: joblib in /usr/local/lib/python3.11/dist-packages (1.4.2)\n",
            "Requirement already satisfied: numpy>=1.23.2 in /usr/local/lib/python3.11/dist-packages (from pandas) (1.26.4)\n",
            "Requirement already satisfied: python-dateutil>=2.8.2 in /usr/local/lib/python3.11/dist-packages (from pandas) (2.8.2)\n",
            "Requirement already satisfied: pytz>=2020.1 in /usr/local/lib/python3.11/dist-packages (from pandas) (2025.1)\n",
            "Requirement already satisfied: tzdata>=2022.7 in /usr/local/lib/python3.11/dist-packages (from pandas) (2025.1)\n",
            "Requirement already satisfied: scipy>=1.6.0 in /usr/local/lib/python3.11/dist-packages (from scikit-learn) (1.13.1)\n",
            "Requirement already satisfied: threadpoolctl>=3.1.0 in /usr/local/lib/python3.11/dist-packages (from scikit-learn) (3.5.0)\n",
            "Requirement already satisfied: six>=1.5 in /usr/local/lib/python3.11/dist-packages (from python-dateutil>=2.8.2->pandas) (1.17.0)\n"
          ]
        }
      ]
    },
    {
      "cell_type": "code",
      "source": [
        "import pandas as pd\n",
        "import numpy as np\n",
        "import joblib\n",
        "from sklearn.model_selection import train_test_split\n",
        "from sklearn.ensemble import RandomForestClassifier\n",
        "from sklearn.preprocessing import StandardScaler\n",
        "from sklearn.pipeline import Pipeline\n",
        "\n",
        "# Load the prepared yoga keypoints dataset\n",
        "df = pd.read_csv(\"yoga_keypoints.csv\")\n",
        "\n",
        "# Separate features and labels\n",
        "X = df.iloc[:, :-1].values  # Keypoints data (all columns except last)\n",
        "y = df[\"label\"].values  # Yoga pose labels\n",
        "\n",
        "# Split into training and testing sets\n",
        "X_train, X_test, y_train, y_test = train_test_split(X, y, test_size=0.2, random_state=42)\n",
        "\n",
        "# Create a pipeline with scaling and a classifier (Random Forest for high accuracy)\n",
        "model = Pipeline([\n",
        "    (\"scaler\", StandardScaler()),  # Normalize keypoint values\n",
        "    (\"classifier\", RandomForestClassifier(n_estimators=200, random_state=42))  # Classification model\n",
        "])\n",
        "\n",
        "# Train the model\n",
        "model.fit(X_train, y_train)\n",
        "\n",
        "# Evaluate accuracy\n",
        "accuracy = model.score(X_test, y_test)\n",
        "print(f\"✅ Model trained with {accuracy * 100:.2f}% accuracy.\")\n",
        "\n",
        "# Save the trained model\n",
        "joblib.dump(model, \"yoga_pose_model.pkl\")\n",
        "print(\"✅ Model saved as yoga_pose_model.pkl\")\n"
      ],
      "metadata": {
        "colab": {
          "base_uri": "https://localhost:8080/"
        },
        "id": "FACzm66wHgne",
        "outputId": "dfded142-1036-4897-e460-dccbbaa4c941"
      },
      "execution_count": 12,
      "outputs": [
        {
          "output_type": "stream",
          "name": "stdout",
          "text": [
            "✅ Model trained with 100.00% accuracy.\n",
            "✅ Model saved as yoga_pose_model.pkl\n"
          ]
        }
      ]
    },
    {
      "cell_type": "code",
      "source": [
        "import cv2\n",
        "import numpy as np\n",
        "import tensorflow_hub as hub\n",
        "import tensorflow as tf\n",
        "import joblib\n",
        "\n",
        "# Load MoveNet Thunder model\n",
        "model_url = \"https://tfhub.dev/google/movenet/singlepose/thunder/4\"\n",
        "movenet = hub.load(model_url)\n",
        "\n",
        "# Load the trained yoga pose classification model\n",
        "classifier = joblib.load(\"yoga_pose_model.pkl\")\n",
        "\n",
        "# Function to extract keypoints from an image\n",
        "def extract_keypoints_from_frame(frame):\n",
        "    img = cv2.resize(frame, (256, 256))  # Resize to model input size\n",
        "    img = cv2.cvtColor(img, cv2.COLOR_BGR2RGB)  # Convert BGR to RGB\n",
        "    img = np.expand_dims(img, axis=0).astype(np.int32)  # Format input for model\n",
        "\n",
        "    # Get keypoints from MoveNet model\n",
        "    outputs = movenet.signatures[\"serving_default\"](input=img)\n",
        "    keypoints = outputs[\"output_0\"].numpy().reshape(-1, 3)[:, :2]  # Extract (x, y)\n",
        "\n",
        "    return keypoints.flatten()  # Convert to 1D array\n",
        "\n",
        "# Open webcam\n",
        "cap = cv2.VideoCapture(0)\n",
        "\n",
        "while cap.isOpened():\n",
        "    ret, frame = cap.read()\n",
        "    if not ret:\n",
        "        break\n",
        "\n",
        "    # Extract keypoints from frame\n",
        "    keypoints = extract_keypoints_from_frame(frame)\n",
        "\n",
        "    # Predict yoga pose using the trained model\n",
        "    keypoints = keypoints.reshape(1, -1)  # Reshape for model input\n",
        "    predicted_pose = classifier.predict(keypoints)[0]  # Predict pose\n",
        "\n",
        "    # Display the predicted yoga pose on the frame\n",
        "    cv2.putText(frame, f\"Pose: {predicted_pose}\", (50, 50),\n",
        "                cv2.FONT_HERSHEY_SIMPLEX, 1, (0, 255, 0), 2, cv2.LINE_AA)\n",
        "\n",
        "    # Show webcam feed\n",
        "    cv2.imshow(\"Yoga Pose Detection\", frame)\n",
        "\n",
        "    # Exit when 'q' is pressed\n",
        "    if cv2.waitKey(1) & 0xFF == ord(\"q\"):\n",
        "        break\n",
        "\n",
        "# Release webcam and close windows\n",
        "cap.release()\n",
        "cv2.destroyAllWindows()\n"
      ],
      "metadata": {
        "id": "DDwGchPUHz2L"
      },
      "execution_count": 10,
      "outputs": []
    },
    {
      "cell_type": "code",
      "source": [],
      "metadata": {
        "id": "60s7a80QIA_P"
      },
      "execution_count": null,
      "outputs": []
    }
  ]
}